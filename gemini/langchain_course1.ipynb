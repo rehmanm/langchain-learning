{
 "cells": [
  {
   "cell_type": "code",
   "execution_count": 1,
   "id": "9b194d8e",
   "metadata": {},
   "outputs": [],
   "source": [
    "!pip install -qU \\\n",
    "  langchain-core \\\n",
    "  langchain-google-genai \\\n",
    "  langchain-community"
   ]
  },
  {
   "cell_type": "code",
   "execution_count": 2,
   "id": "9baa3879",
   "metadata": {},
   "outputs": [
    {
     "name": "stdout",
     "output_type": "stream",
     "text": [
      "Enter API key for Google Gemini: ········\n"
     ]
    }
   ],
   "source": [
    "import getpass\n",
    "import os\n",
    "\n",
    "if not os.environ.get(\"GOOGLE_API_KEY\"):\n",
    "  os.environ[\"GOOGLE_API_KEY\"] = getpass.getpass(\"Enter API key for Google Gemini: \")\n",
    "\n"
   ]
  },
  {
   "cell_type": "code",
   "execution_count": 4,
   "id": "f76724b1",
   "metadata": {},
   "outputs": [],
   "source": [
    "from langchain.chat_models import init_chat_model\n",
    "\n",
    "llm = init_chat_model(\"gemini-2.0-flash\", model_provider=\"google_genai\", temperature=0.0)\n",
    "creative_llm = init_chat_model(\"gemini-2.0-flash\", model_provider=\"google_genai\", temperature=0.9)"
   ]
  },
  {
   "cell_type": "code",
   "execution_count": 7,
   "id": "e9802a75",
   "metadata": {},
   "outputs": [],
   "source": [
    "article = \"\"\"\n",
    "\n",
    "Introduction\n",
    "The future of automation is with “Agents”. Whereas, in the business automations, there isn't an easy solution to get the functionality done. In the present day and age of intelligent automation, it is highly crucial to develop powerful platforms and tools. Such a vast combination is Bright Data, LangChain, and Google Gemini. Bright Data facilitates web-scale data extraction, LangChain facilitates developing advanced language models and chains, and Google Gemini provides premium summarization capabilities.\n",
    "\n",
    "This blog post will take you through a real-world use case integrating these technologies to create an intelligent agent that can execute Google search queries via Bright Data, scrape Airbnb listings, and return summarized insights from the results. You will be demonstrated with the usage of LangChain to organize your workflow and Google Gemini for summarization so that the output is actionable, meaningful, and concise.\n",
    "\n",
    "New users of Bright Data, please make sure to sign-up here - Bright Data\n",
    "\n",
    "Who is this for?\n",
    "\n",
    "This solution is ideal for:\n",
    "\n",
    "• Data Engineers and Data Scientists: Wishing to create an intelligent agent that can gather, process, and abstract data from diverse sources.\n",
    "\n",
    "• Developers: Wanting to incorporate APIs and create sophisticated applications with the help of LangChain and other third-party platforms such as Bright Data and Google Gemini.\n",
    "\n",
    "• Business Analysts and Product Managers: Who wish to find means of deriving insights from two platforms (Google and Airbnb) and summarizing the data for faster decision-making.\n",
    "\n",
    "What problem is this workflow solving?\n",
    "\n",
    "Actionable information quickly is always critical. Traditional data extraction methods are often slow, error-prone, and require significant manual effort.\n",
    "\n",
    "This workflow solves the following problems:\n",
    "\n",
    "Web scraping complexity: Automating the extraction of data from websites like Google and Airbnb in a structured and scalable manner.\n",
    "Search optimization: Refining Google search results and presenting them in a meaningful way, specifically for business applications like competitive analysis or market research.\n",
    "Summarization: Aggregating data and providing concise summaries using advanced AI techniques to ensure that key insights are easily consumable.\n",
    "What this workflow does\n",
    "\n",
    "The core of this workflow is a LangChain agent that:\n",
    "\n",
    "Performs a Google search using the Bright Data SERP API.\n",
    "Scrapes Airbnb listings from a specific location using the Bright Data Web Unlocker.\n",
    "Summarizes the results using Google Gemini.\n",
    "Detailed Breakdown of the Process\n",
    "\n",
    "Scraping Airbnb Listings: With a location input, the agent scrapes Airbnb listings using Bright Data Web Unlocker, which provides access to dynamic content such as property details (price, location, amenities).\n",
    "Google Search via Bright Data SERP API: The workflow first sends a search query to Google using Bright Data’s SERP API. This API allows us to bypass search engine restrictions and retrieve organic search results (titles, snippets, URLs) for a given query.\n",
    "Summarization with Google Gemini: Once the data is retrieved, Google Gemini is used to summarize the results. The model condenses the large set of information into a few concise points, allowing the user to quickly understand the key insights without having to read through every detail.\n",
    "Setup\n",
    "\n",
    "To set up this workflow, follow the steps below:\n",
    "\n",
    "1. Install Required Libraries\n",
    "\n",
    "Before getting started, ensure that you have all necessary libraries installed. You can use the following requirements.txt file to manage dependencies:\n",
    "\n",
    "2. Set Up API Keys\n",
    "\n",
    "Bright Data: You will need an API key for the Bright Data SERP API and Web Unlocker. Sign up for an account on Bright Data and retrieve your API keys from the dashboard.\n",
    "Google Gemini: You need an API key to access the Google Gemini model. Set up the necessary authentication and obtain an API key from the Google Cloud Console.\n",
    "3. Environment Variables\n",
    "\n",
    "To securely store your API keys, use a .env file. This ensures that your credentials are not exposed in your codebase.\n",
    "\n",
    "BRIGHTDATA_SERP_API_KEY=your_brightdata_api_key\n",
    "\n",
    "BRIGHTDATA_BEARER_TOKEN=your_brightdata_bearer_token\n",
    "\n",
    "GOOGLE_API_KEY=your_google_api_key\n",
    "\n",
    "GOOGLE_GEMINI_MODEL_NAME=your_google_gemini_model_name\n",
    "\n",
    "4. Write the LangChain Agent\n",
    "\n",
    "Now that all dependencies are in place, let's write the LangChain agent. This agent will interact with Bright Data, scrape the necessary information, and pass it through Google Gemini for summarization.\n",
    "\n",
    "Code for the LangChain Agent:\n",
    "\n",
    "Source Code LangChain-BrightData-Agent\n",
    "\n",
    "Here’s the crucial agent implementation which utilizes the Bright Data, Airbnb and Google Gemini providers.\n",
    "\n",
    "from dotenv import load_dotenv\n",
    "from langchain.agents import initialize_agent, Tool\n",
    "\n",
    "from tools.google_search import GoogleSearchTool\n",
    "from tools.airbnb import AirbnbTool\n",
    "from gemini_summary import summarize_with_gemini\n",
    "from llm import GeminiLLM\n",
    "\n",
    "load_dotenv()\n",
    "\n",
    "llm = GeminiLLM()\n",
    "\n",
    "tools = [\n",
    "    Tool.from_function(func=GoogleSearchTool(), name=\"Google Search\", description=\"Search Google for answers\"),\n",
    "    Tool.from_function(func=AirbnbTool(), name=\"Airbnb Search\", description=\"Search Airbnb for listings\")\n",
    "]\n",
    "\n",
    "agent = initialize_agent(tools, llm, agent=\"zero-shot-react-description\", verbose=True)\n",
    "\n",
    "if __name__ == \"__main__\":\n",
    "    query = \"Find Airbnb listings in New York and summarize Google reviews about staying there.\"\n",
    "    try:\n",
    "        result = agent.run(query)\n",
    "        summary = summarize_with_gemini(result)\n",
    "        print(\"\\n===== RAW RESULT =====\")\n",
    "        print(result)\n",
    "        print(\"\\n===== SUMMARY =====\")\n",
    "        print(summary)\n",
    "    except Exception as e:\n",
    "        print(f\"[Agent Error] {e}\")\n",
    "How to Customize this Workflow to Your Needs\n",
    "\n",
    "Modify Search Queries: You can change the search query by modifying the query variable. This allows the agent to search for different topics, products, or services.\n",
    "Summarization Settings: If you want a different style or level of detail for the summaries, update the gemini_summary.py with the prompt template for summarization.\n",
    "Add More Tools: LangChain allows for easily adding new tools. You can integrate other web scraping tools, APIs, or services to extend this agent's capabilities.\n",
    "Source Code\n",
    "\n",
    "Here's the Source Code LangChain-BrightData-Agent\n",
    "\n",
    "Conclusion\n",
    "\n",
    "By integrating Bright Data, LangChain, and Google Gemini, you can build an intelligent agent that efficiently scrapes data, processes it, and gives insightful answers in the form of summaries. This process can be further tailored to adapt to various applications, including competitive research, market analysis, or vacation planning.\n",
    "\n",
    "Content Credits - This blog-post contents were formatted with ChatGPT to make it more professional and produce a polished content for the targeted audience.\n",
    "\"\"\""
   ]
  },
  {
   "cell_type": "code",
   "execution_count": 9,
   "id": "9ea5629b",
   "metadata": {},
   "outputs": [],
   "source": [
    "from langchain.prompts import (\n",
    "    SystemMessagePromptTemplate,\n",
    "    HumanMessagePromptTemplate\n",
    ")"
   ]
  },
  {
   "cell_type": "code",
   "execution_count": 21,
   "id": "7eccf05a",
   "metadata": {},
   "outputs": [],
   "source": [
    "system_prompt = SystemMessagePromptTemplate.from_template(\n",
    "    \"You are an AI assistant that helps generate article titles\"\n",
    ")\n",
    "\n",
    "user_prompt = HumanMessagePromptTemplate.from_template(\n",
    "    \"\"\"\n",
    "    You are tasked with creating a name for an article.\n",
    "    The article here is for you to examine \n",
    "    \n",
    "    ---\n",
    "    \n",
    "    {article}\n",
    "    \n",
    "    ---\n",
    "    The name should be based on the context of the article.\n",
    "    Be creative, but make sure names are clear, catchy,\n",
    "    and relevant to the theme of the article.\n",
    "    \n",
    "    Only output the article name, no other explaination or \n",
    "    text can be provided.   \n",
    "    \n",
    "    \"\"\",\n",
    "        input_variables = [\"article\"]\n",
    ")"
   ]
  },
  {
   "cell_type": "code",
   "execution_count": 22,
   "id": "9fdc2256",
   "metadata": {},
   "outputs": [
    {
     "data": {
      "text/plain": [
       "'\\n    You are tasked with creating a name for an article.\\n    The article here is for you to examine \\n    \\n    ---\\n    \\n    TEST String\\n    \\n    ---\\n    The name should be based on the context of the article.\\n    Be creative, but make sure names are clear, catchy,\\n    and relevant to the theme of the article.\\n    \\n    Only output the article name, no other explaination or \\n    text can be provided.   \\n    \\n    '"
      ]
     },
     "execution_count": 22,
     "metadata": {},
     "output_type": "execute_result"
    }
   ],
   "source": [
    "user_prompt.format(article = \"TEST String\").content"
   ]
  },
  {
   "cell_type": "code",
   "execution_count": 23,
   "id": "c3b1e148",
   "metadata": {},
   "outputs": [
    {
     "name": "stdout",
     "output_type": "stream",
     "text": [
      "\n",
      "    You are tasked with creating a name for an article.\n",
      "    The article here is for you to examine \n",
      "    \n",
      "    ---\n",
      "    \n",
      "    TEST String\n",
      "    \n",
      "    ---\n",
      "    The name should be based on the context of the article.\n",
      "    Be creative, but make sure names are clear, catchy,\n",
      "    and relevant to the theme of the article.\n",
      "    \n",
      "    Only output the article name, no other explaination or \n",
      "    text can be provided.   \n",
      "    \n",
      "    \n"
     ]
    }
   ],
   "source": [
    "print(user_prompt.format(article = \"TEST String\").content)"
   ]
  },
  {
   "cell_type": "code",
   "execution_count": 24,
   "id": "2db3b6db",
   "metadata": {},
   "outputs": [],
   "source": [
    "from langchain.prompts import ChatPromptTemplate"
   ]
  },
  {
   "cell_type": "code",
   "execution_count": 25,
   "id": "bddc2b2f",
   "metadata": {},
   "outputs": [],
   "source": [
    "first_prompt = ChatPromptTemplate.from_messages([system_prompt, user_prompt])"
   ]
  },
  {
   "cell_type": "code",
   "execution_count": 26,
   "id": "ba110900",
   "metadata": {},
   "outputs": [
    {
     "name": "stdout",
     "output_type": "stream",
     "text": [
      "System: You are an AI assistant that helps generate article titles\n",
      "Human: \n",
      "    You are tasked with creating a name for an article.\n",
      "    The article here is for you to examine \n",
      "    \n",
      "    ---\n",
      "    \n",
      "    TEST STRING\n",
      "    \n",
      "    ---\n",
      "    The name should be based on the context of the article.\n",
      "    Be creative, but make sure names are clear, catchy,\n",
      "    and relevant to the theme of the article.\n",
      "    \n",
      "    Only output the article name, no other explaination or \n",
      "    text can be provided.   \n",
      "    \n",
      "    \n"
     ]
    }
   ],
   "source": [
    "print(first_prompt.format(article = \"TEST STRING\"))"
   ]
  },
  {
   "cell_type": "code",
   "execution_count": 27,
   "id": "d0d1ca35",
   "metadata": {},
   "outputs": [],
   "source": [
    "chain_one = (\n",
    "    {\"article\": lambda x: x[\"article\"]}\n",
    "    | first_prompt\n",
    "    | creative_llm\n",
    "    | { \"article_title\": lambda x: x.content}\n",
    ")"
   ]
  },
  {
   "cell_type": "code",
   "execution_count": 29,
   "id": "3a722f9c",
   "metadata": {},
   "outputs": [
    {
     "data": {
      "text/plain": [
       "{'article_title': 'Building an Intelligent Agent: Web Scraping with Bright Data, LangChain, and Google Gemini'}"
      ]
     },
     "execution_count": 29,
     "metadata": {},
     "output_type": "execute_result"
    }
   ],
   "source": [
    "article_title_msg = chain_one.invoke({\n",
    "    \"article\": article\n",
    "})\n",
    "article_title_msg"
   ]
  },
  {
   "cell_type": "code",
   "execution_count": 68,
   "id": "652d5a17",
   "metadata": {},
   "outputs": [],
   "source": [
    "second_user_prompt = HumanMessagePromptTemplate.from_template(\n",
    "    \"\"\"\n",
    "    You are tasked with creating a description for\n",
    "    the article. The article is here for you to examine.\n",
    "    \n",
    "    ---\n",
    "    {article}\n",
    "    ---\n",
    "    Here is the article title {article_title}\n",
    "    \n",
    "    Output the SEO freindly article description. Make sure don't exceed\n",
    "    200 characters. Do not output\n",
    "    anything other than the description.\n",
    "    \n",
    "    \"\"\",\n",
    "    input_variables = [\"article\", \"article_title\"]\n",
    ")\n",
    "\n",
    "second_prompt = ChatPromptTemplate.from_messages([\n",
    "    system_prompt,\n",
    "    second_user_prompt\n",
    "])"
   ]
  },
  {
   "cell_type": "code",
   "execution_count": 69,
   "id": "1bd99692",
   "metadata": {},
   "outputs": [
    {
     "name": "stdout",
     "output_type": "stream",
     "text": [
      "System: You are an AI assistant that helps generate article titles\n",
      "Human: \n",
      "    You are tasked with creating a description for\n",
      "    the article. The article is here for you to examine.\n",
      "    \n",
      "    ---\n",
      "    TEST STRING\n",
      "    ---\n",
      "    Here is the article title TEST Title\n",
      "    \n",
      "    Output the SEO freindly article description. Make sure don't exceed\n",
      "    200 characters. Do not output\n",
      "    anything other than the description.\n",
      "    \n",
      "    \n"
     ]
    }
   ],
   "source": [
    "print(second_prompt.format(article = \"TEST STRING\", article_title = \"TEST Title\"))"
   ]
  },
  {
   "cell_type": "code",
   "execution_count": 70,
   "id": "60e43422",
   "metadata": {},
   "outputs": [],
   "source": [
    "chain_two = (\n",
    "    {\"article\": lambda x: x[\"article\"],\n",
    "     \"article_title\": lambda x: x[\"article_title\"]}\n",
    "    | second_prompt\n",
    "    | creative_llm\n",
    "    | { \"summary\": lambda x: x.content}\n",
    ")"
   ]
  },
  {
   "cell_type": "code",
   "execution_count": 71,
   "id": "083ba256",
   "metadata": {},
   "outputs": [
    {
     "data": {
      "text/plain": [
       "{'summary': 'Automate web scraping with Bright Data, LangChain, & Google Gemini. Build an intelligent agent for efficient data extraction & summarization.'}"
      ]
     },
     "execution_count": 71,
     "metadata": {},
     "output_type": "execute_result"
    }
   ],
   "source": [
    "article_description_msg = chain_two.invoke({\n",
    "    \"article\": article,\n",
    "    \"article_title\": article_title_msg\n",
    "})\n",
    "article_description_msg"
   ]
  },
  {
   "cell_type": "code",
   "execution_count": 72,
   "id": "57e323ed",
   "metadata": {},
   "outputs": [],
   "source": [
    "chain_two_llm = (\n",
    "    {\"article\": lambda x: x[\"article\"],\n",
    "     \"article_title\": lambda x: x[\"article_title\"]}\n",
    "    | second_prompt\n",
    "    | llm\n",
    "    | { \"summary\": lambda x: x.content}\n",
    ")"
   ]
  },
  {
   "cell_type": "code",
   "execution_count": 73,
   "id": "d638c465",
   "metadata": {},
   "outputs": [
    {
     "data": {
      "text/plain": [
       "{'summary': 'Automate web scraping with Bright Data, LangChain, & Google Gemini. Build an intelligent agent for Airbnb data & get summarized insights.'}"
      ]
     },
     "execution_count": 73,
     "metadata": {},
     "output_type": "execute_result"
    }
   ],
   "source": [
    "article_description_msg_llm = chain_two.invoke({\n",
    "    \"article\": article,\n",
    "    \"article_title\": article_title_msg\n",
    "})\n",
    "article_description_msg_llm"
   ]
  },
  {
   "cell_type": "code",
   "execution_count": null,
   "id": "f195edde",
   "metadata": {},
   "outputs": [],
   "source": []
  },
  {
   "cell_type": "code",
   "execution_count": null,
   "id": "78aa3a83",
   "metadata": {},
   "outputs": [],
   "source": []
  }
 ],
 "metadata": {
  "kernelspec": {
   "display_name": "Python 3 (ipykernel)",
   "language": "python",
   "name": "python3"
  },
  "language_info": {
   "codemirror_mode": {
    "name": "ipython",
    "version": 3
   },
   "file_extension": ".py",
   "mimetype": "text/x-python",
   "name": "python",
   "nbconvert_exporter": "python",
   "pygments_lexer": "ipython3",
   "version": "3.10.12"
  }
 },
 "nbformat": 4,
 "nbformat_minor": 5
}
