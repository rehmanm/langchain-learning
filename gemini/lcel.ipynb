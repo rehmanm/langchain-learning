{
 "cells": [
  {
   "cell_type": "code",
   "execution_count": null,
   "id": "29d547a9",
   "metadata": {},
   "outputs": [],
   "source": [
    "!pip install -qU \\\n",
    "  langchain-core  \\\n",
    "  langchain[google-genai]  \\\n",
    "  langchain-community  \\\n",
    "  langsmith  \\\n",
    "  google-search-results \\\n",
    "  docarray "
   ]
  },
  {
   "cell_type": "code",
   "execution_count": null,
   "id": "3f8ae994",
   "metadata": {},
   "outputs": [],
   "source": [
    "import getpass\n",
    "import os\n",
    "from langchain_google_genai import GoogleGenerativeAI\n",
    "\n",
    "if not os.environ.get(\"GOOGLE_API_KEY\"):\n",
    "  os.environ[\"GOOGLE_API_KEY\"] = getpass.getpass(\"Enter API key for Google Gemini: \")\n",
    "\n",
    "#llm = GoogleGenerativeAI(model=\"gemini-2.0-flash\", temperature=0.0) \n",
    "\n",
    "\n",
    "from langchain.chat_models import init_chat_model\n",
    "\n",
    "llm = init_chat_model(\"gemini-2.5-flash\", model_provider=\"google_genai\")"
   ]
  },
  {
   "cell_type": "code",
   "execution_count": null,
   "id": "57641977",
   "metadata": {},
   "outputs": [],
   "source": [
    "from langchain.prompts import PromptTemplate\n",
    "\n",
    "prompt_template = \"Give me a small report on {topic}\"\n",
    "\n",
    "prompt = PromptTemplate(\n",
    "    input_variables = [\"topic\"],\n",
    "    template = prompt_template\n",
    ")\n"
   ]
  },
  {
   "cell_type": "code",
   "execution_count": null,
   "id": "41c18cc2",
   "metadata": {},
   "outputs": [],
   "source": [
    "llm_out = llm.invoke(\"Hello there\")\n",
    "\n",
    "llm_out"
   ]
  },
  {
   "cell_type": "code",
   "execution_count": null,
   "id": "ff776f58",
   "metadata": {},
   "outputs": [],
   "source": [
    "from langchain.schema.output_parser import StrOutputParser\n",
    "\n",
    "output_parser = StrOutputParser()"
   ]
  },
  {
   "cell_type": "code",
   "execution_count": null,
   "id": "e60d99ae",
   "metadata": {},
   "outputs": [],
   "source": [
    "out = output_parser.invoke(llm_out)\n",
    "\n",
    "out"
   ]
  },
  {
   "cell_type": "code",
   "execution_count": null,
   "id": "207272a1",
   "metadata": {},
   "outputs": [],
   "source": [
    "from IPython.display import display, Markdown\n",
    "\n",
    "lcel_chain = ( prompt\n",
    "              | llm\n",
    "              | output_parser\n",
    "              | Markdown\n",
    "            )\n",
    "\n",
    "lcel_chain.invoke(\"retrevial augment generation\")"
   ]
  },
  {
   "cell_type": "code",
   "execution_count": null,
   "id": "3db14027",
   "metadata": {},
   "outputs": [],
   "source": [
    "#TODO: input multiple parameters in replace function\n",
    "\n",
    "old_word = \"RAG\"\n",
    "new_word = \"Retrieval Augmented Generation\"\n",
    "def replace(x: str):\n",
    "    return x.replace(old_word, new_word)\n",
    "    \n",
    "\n",
    "lcel_chain = ( prompt\n",
    "              | llm\n",
    "              | output_parser\n",
    "              | replace \n",
    "              | Markdown\n",
    "            )\n",
    "\n",
    "lcel_chain.invoke(\"retrevial augment generation\")"
   ]
  },
  {
   "cell_type": "code",
   "execution_count": null,
   "id": "516480c4",
   "metadata": {},
   "outputs": [],
   "source": [
    "from langchain_google_genai import GoogleGenerativeAIEmbeddings \n",
    "\n",
    "from langchain.vectorstores import DocArrayInMemorySearch\n",
    "\n",
    "embedding = GoogleGenerativeAIEmbeddings(model=\"gemini-embedding-001\")\n",
    "\n",
    "vecstore_a = DocArrayInMemorySearch.from_texts([\n",
    "    \"half the info here\",\n",
    "    \"DeepSeek-V3 was released in December 2004\"\n",
    "], embedding=embedding)\n",
    "\n",
    "vecstore_b = DocArrayInMemorySearch.from_texts([\n",
    "    \"the other half the info here\",\n",
    "    \"the DeepSeek-V3 LLM is a mixture of experts model with 671B parameters\"\n",
    "], embedding=embedding)\n"
   ]
  },
  {
   "cell_type": "code",
   "execution_count": null,
   "id": "34437c92",
   "metadata": {},
   "outputs": [],
   "source": [
    "prompt_str = \"\"\"\n",
    "Using the context provided, answer the user's question.\n",
    "Context\n",
    "{context_a}\n",
    "{context_b}\n",
    "\"\"\""
   ]
  },
  {
   "cell_type": "code",
   "execution_count": null,
   "id": "7d4551bd",
   "metadata": {},
   "outputs": [],
   "source": [
    "from langchain.prompts import ChatPromptTemplate, SystemMessagePromptTemplate, HumanMessagePromptTemplate\n",
    "\n",
    "prompt = ChatPromptTemplate.from_messages([\n",
    "    SystemMessagePromptTemplate.from_template(prompt_str),\n",
    "    HumanMessagePromptTemplate.from_template(\"{question}\")\n",
    "])"
   ]
  },
  {
   "cell_type": "code",
   "execution_count": null,
   "id": "cd700251",
   "metadata": {},
   "outputs": [],
   "source": [
    "from langchain_core.runnables import RunnablePassthrough, RunnableParallel\n",
    "\n",
    "retriever_a = vecstore_a.as_retriever()\n",
    "retriever_b = vecstore_b.as_retriever()\n",
    "\n",
    "retreival = RunnableParallel(\n",
    "    {\n",
    "        \"context_a\": retriever_a,\n",
    "        \"context_b\": retriever_b,\n",
    "        \"question\": RunnablePassthrough()\n",
    "    }\n",
    ")\n"
   ]
  },
  {
   "cell_type": "code",
   "execution_count": null,
   "id": "6e1a201c",
   "metadata": {},
   "outputs": [],
   "source": [
    "chain = (\n",
    "    retreival\n",
    "    | prompt\n",
    "    | llm\n",
    "    | output_parser\n",
    ")"
   ]
  },
  {
   "cell_type": "code",
   "execution_count": null,
   "id": "49a83597",
   "metadata": {},
   "outputs": [],
   "source": [
    "chain.invoke(\"what architecture doest the model DeepSeek released in december use? and how many parameters\")"
   ]
  },
  {
   "cell_type": "code",
   "execution_count": null,
   "id": "52609244",
   "metadata": {},
   "outputs": [],
   "source": []
  }
 ],
 "metadata": {
  "kernelspec": {
   "display_name": "Python 3 (ipykernel)",
   "language": "python",
   "name": "python3"
  },
  "language_info": {
   "codemirror_mode": {
    "name": "ipython",
    "version": 3
   },
   "file_extension": ".py",
   "mimetype": "text/x-python",
   "name": "python",
   "nbconvert_exporter": "python",
   "pygments_lexer": "ipython3",
   "version": "3.10.12"
  }
 },
 "nbformat": 4,
 "nbformat_minor": 5
}
