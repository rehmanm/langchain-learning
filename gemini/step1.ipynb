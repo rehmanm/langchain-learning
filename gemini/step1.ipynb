{
 "cells": [
  {
   "cell_type": "markdown",
   "id": "d57a68eb",
   "metadata": {},
   "source": [
    "## Installation"
   ]
  },
  {
   "cell_type": "code",
   "execution_count": 1,
   "id": "edd439e9",
   "metadata": {},
   "outputs": [
    {
     "name": "stdout",
     "output_type": "stream",
     "text": [
      "\u001b[33mWARNING: Retrying (Retry(total=4, connect=None, read=None, redirect=None, status=None)) after connection broken by 'ProtocolError('Connection aborted.', RemoteDisconnected('Remote end closed connection without response'))': /simple/langchain-core/\u001b[0m\u001b[33m\n",
      "\u001b[0m\u001b[33m  WARNING: Retrying (Retry(total=4, connect=None, read=None, redirect=None, status=None)) after connection broken by 'ProtocolError('Connection aborted.', RemoteDisconnected('Remote end closed connection without response'))': /packages/c0/c3/8080431fd7567a340d3a42e36c0bb3970a8d00d5e27bf3ca2103b3b55996/langchain_core-0.3.66-py3-none-any.whl\u001b[0m\u001b[33m\n",
      "\u001b[0m"
     ]
    }
   ],
   "source": [
    "!pip install -qU \\\n",
    "  langchain-core \\\n",
    "  langchain-google-genai \\\n",
    "  langchain-community"
   ]
  },
  {
   "cell_type": "markdown",
   "id": "dc45c44c",
   "metadata": {},
   "source": [
    "## Set gemini api key"
   ]
  },
  {
   "cell_type": "code",
   "execution_count": 2,
   "id": "c04b038e",
   "metadata": {},
   "outputs": [
    {
     "name": "stdout",
     "output_type": "stream",
     "text": [
      "Enter API key for Google Gemini: ········\n"
     ]
    }
   ],
   "source": [
    "import getpass\n",
    "import os\n",
    "\n",
    "if not os.environ.get(\"GOOGLE_API_KEY\"):\n",
    "  os.environ[\"GOOGLE_API_KEY\"] = getpass.getpass(\"Enter API key for Google Gemini: \")\n",
    "\n"
   ]
  },
  {
   "cell_type": "markdown",
   "id": "042da6c2",
   "metadata": {},
   "source": [
    "### import genai model"
   ]
  },
  {
   "cell_type": "code",
   "execution_count": 3,
   "id": "a5abf8e8",
   "metadata": {},
   "outputs": [],
   "source": [
    "from langchain.chat_models import init_chat_model\n",
    "\n",
    "model = init_chat_model(\"gemini-2.0-flash\", model_provider=\"google_genai\")"
   ]
  },
  {
   "cell_type": "code",
   "execution_count": 4,
   "id": "bed4adcd",
   "metadata": {},
   "outputs": [],
   "source": [
    "from langchain_core.messages import HumanMessage, SystemMessage\n",
    "\n",
    "messages = [\n",
    "    SystemMessage(\"Translate the following from English into Italian\"),\n",
    "    HumanMessage(\"Send Hi to my friend!\"),\n",
    "]"
   ]
  },
  {
   "cell_type": "code",
   "execution_count": 5,
   "id": "30819402",
   "metadata": {},
   "outputs": [
    {
     "data": {
      "text/plain": [
       "AIMessage(content='There are a few ways to translate \"Send Hi to my friend!\" depending on the nuance you want to convey:\\n\\n*   **The most common and direct translation:** \"Saluta il mio amico/la mia amica da parte mia!\" (Use \"amico\" for a male friend and \"amica\" for a female friend). This literally means \"Greet my friend on my behalf!\"\\n\\n*   **A slightly more informal option:** \"Digli/Dille ciao da parte mia!\" (Use \"digli\" for a male friend and \"dille\" for a female friend). This translates to \"Tell him/her hi from me!\"\\n\\n*   **An even more informal and shorter option:** \"Ciao al mio amico/alla mia amica!\" (Use \"amico\" for a male friend and \"amica\" for a female friend). This is like saying \"Hi to my friend!\" directly.\\n\\nSo, the best option depends on your relationship with your friend and the context. If you want to be polite, use the first option. If you want to be casual, use the second or third.', additional_kwargs={}, response_metadata={'prompt_feedback': {'block_reason': 0, 'safety_ratings': []}, 'finish_reason': 'STOP', 'model_name': 'gemini-2.0-flash', 'safety_ratings': []}, id='run--6612ce9a-80af-4804-b66f-953e70d1f39c-0', usage_metadata={'input_tokens': 13, 'output_tokens': 227, 'total_tokens': 240, 'input_token_details': {'cache_read': 0}})"
      ]
     },
     "execution_count": 5,
     "metadata": {},
     "output_type": "execute_result"
    }
   ],
   "source": [
    "model.invoke(messages)\n"
   ]
  },
  {
   "cell_type": "markdown",
   "id": "e3169499",
   "metadata": {},
   "source": [
    "### converting above code to templates"
   ]
  },
  {
   "cell_type": "code",
   "execution_count": 6,
   "id": "ee5eeb67",
   "metadata": {},
   "outputs": [],
   "source": [
    "agent_name = \"Jarvis\""
   ]
  },
  {
   "cell_type": "code",
   "execution_count": 7,
   "id": "43d864bc",
   "metadata": {},
   "outputs": [],
   "source": [
    "from langchain.prompts import SystemMessagePromptTemplate, HumanMessagePromptTemplate\n",
    "\n",
    "# Defining the system prompt (how the AI should act)\n",
    "system_prompt = SystemMessagePromptTemplate.from_template(\n",
    "    \"You are an AI assistant {agent_name} that helps translate to italian.\"\n",
    "    , input_variables=[\"agent_name\"]\n",
    ")"
   ]
  },
  {
   "cell_type": "code",
   "execution_count": 8,
   "id": "d7bc212b",
   "metadata": {},
   "outputs": [],
   "source": [
    "message = \"Hi\"\n",
    "\n",
    "user_prompt = HumanMessagePromptTemplate.from_template(\"\"\"\n",
    "You are tasked to translate the message to Italian\n",
    "\n",
    "-----\n",
    "{message}\n",
    "-----\n",
    "\n",
    "\"\"\",\n",
    "    input_variables=[\"message\"])"
   ]
  },
  {
   "cell_type": "code",
   "execution_count": 9,
   "id": "ff3532b7",
   "metadata": {},
   "outputs": [
    {
     "name": "stdout",
     "output_type": "stream",
     "text": [
      "content='\\nYou are tasked to translate the message to Italian\\n\\n-----\\nHi\\n-----\\n\\n' additional_kwargs={} response_metadata={}\n"
     ]
    }
   ],
   "source": [
    "print(user_prompt.format(message=\"Hi\"))"
   ]
  },
  {
   "cell_type": "code",
   "execution_count": 11,
   "id": "be46c068",
   "metadata": {},
   "outputs": [],
   "source": [
    "from langchain.prompts import ChatPromptTemplate\n",
    "\n",
    "first_prompt = ChatPromptTemplate.from_messages([system_prompt, user_prompt])"
   ]
  },
  {
   "cell_type": "code",
   "execution_count": 29,
   "id": "1569d9f6",
   "metadata": {},
   "outputs": [
    {
     "name": "stdout",
     "output_type": "stream",
     "text": [
      "System: You are an AI assistant Jarvis that helps translate to italian.\n",
      "Human: \n",
      "You are tasked to translate the message to Italian\n",
      "\n",
      "-----\n",
      "Send Hi to my friend!\n",
      "-----\n",
      "\n",
      "\n"
     ]
    }
   ],
   "source": [
    "print(first_prompt.format(message=\"Send Hi to my friend!\", agent_name=\"Jarvis\"))"
   ]
  },
  {
   "cell_type": "code",
   "execution_count": 35,
   "id": "b17ee104",
   "metadata": {},
   "outputs": [],
   "source": [
    "prompt = first_prompt.invoke({\"agent_name\": \"Jarvis\", \"message\": \"Send Hi to my friend!\"})\n",
    "\n"
   ]
  },
  {
   "cell_type": "code",
   "execution_count": 36,
   "id": "5454e91f",
   "metadata": {},
   "outputs": [
    {
     "data": {
      "text/plain": [
       "[SystemMessage(content='You are an AI assistant Jarvis that helps translate to italian.', additional_kwargs={}, response_metadata={}),\n",
       " HumanMessage(content='\\nYou are tasked to translate the message to Italian\\n\\n-----\\nSend Hi to my friend!\\n-----\\n\\n', additional_kwargs={}, response_metadata={})]"
      ]
     },
     "execution_count": 36,
     "metadata": {},
     "output_type": "execute_result"
    }
   ],
   "source": [
    "prompt.to_messages()\n"
   ]
  },
  {
   "cell_type": "code",
   "execution_count": 37,
   "id": "bd0c9285",
   "metadata": {},
   "outputs": [],
   "source": [
    "response = model.invoke(prompt)\n"
   ]
  },
  {
   "cell_type": "code",
   "execution_count": 38,
   "id": "2b3d4ee0",
   "metadata": {},
   "outputs": [
    {
     "data": {
      "text/plain": [
       "AIMessage(content='Ecco la traduzione:\\n\\n\"Saluta il mio amico!\"\\n\\nOr, if you want to be more informal:\\n\\n\"Manda un saluto al mio amico!\"', additional_kwargs={}, response_metadata={'prompt_feedback': {'block_reason': 0, 'safety_ratings': []}, 'finish_reason': 'STOP', 'model_name': 'gemini-2.0-flash', 'safety_ratings': []}, id='run--ceaaa13b-ce48-4560-abda-8921fcad0e44-0', usage_metadata={'input_tokens': 34, 'output_tokens': 34, 'total_tokens': 68, 'input_token_details': {'cache_read': 0}})"
      ]
     },
     "execution_count": 38,
     "metadata": {},
     "output_type": "execute_result"
    }
   ],
   "source": [
    "response"
   ]
  },
  {
   "cell_type": "code",
   "execution_count": 39,
   "id": "baa1535b",
   "metadata": {},
   "outputs": [
    {
     "name": "stdout",
     "output_type": "stream",
     "text": [
      "Ecco la traduzione:\n",
      "\n",
      "\"Saluta il mio amico!\"\n",
      "\n",
      "Or, if you want to be more informal:\n",
      "\n",
      "\"Manda un saluto al mio amico!\"\n"
     ]
    }
   ],
   "source": [
    "print(response.content)"
   ]
  },
  {
   "cell_type": "code",
   "execution_count": 26,
   "id": "568d7c44",
   "metadata": {},
   "outputs": [],
   "source": [
    "chain_one = (\n",
    "    {\n",
    "        \"message\": lambda x: x[\"message\"], \n",
    "        \"agent_name\": lambda x: x[\"agent_name\"]\n",
    "    }\n",
    "    | first_prompt\n",
    "    | model\n",
    "    | {\"response\": lambda x: x.content}\n",
    ")"
   ]
  },
  {
   "cell_type": "code",
   "execution_count": 28,
   "id": "ff974ae3",
   "metadata": {},
   "outputs": [
    {
     "data": {
      "text/plain": [
       "{'response': 'Ecco la traduzione:\\n\\n\"Saluta il mio amico/la mia amica!\"\\n\\n**Explanation of options:**\\n\\n*   If you know the friend is male, use \"amico\".\\n*   If you know the friend is female, use \"amica\".\\n*   If you don\\'t know the gender, you can use \"amico/amica\" or slightly rephrase to something like \"Digli/Dille ciao da parte mia!\" (Tell him/her hello from me!). However, in most cases, using \"Saluta il mio amico/la mia amica!\" is perfectly fine.'}"
      ]
     },
     "execution_count": 28,
     "metadata": {},
     "output_type": "execute_result"
    }
   ],
   "source": [
    "chain_one.invoke({\"agent_name\": \"Jarvis\", \"message\": \"Send Hi to my friend!\"})"
   ]
  },
  {
   "cell_type": "code",
   "execution_count": null,
   "id": "7c6cd5f9",
   "metadata": {},
   "outputs": [],
   "source": []
  }
 ],
 "metadata": {
  "kernelspec": {
   "display_name": "Python 3 (ipykernel)",
   "language": "python",
   "name": "python3"
  },
  "language_info": {
   "codemirror_mode": {
    "name": "ipython",
    "version": 3
   },
   "file_extension": ".py",
   "mimetype": "text/x-python",
   "name": "python",
   "nbconvert_exporter": "python",
   "pygments_lexer": "ipython3",
   "version": "3.10.12"
  }
 },
 "nbformat": 4,
 "nbformat_minor": 5
}
