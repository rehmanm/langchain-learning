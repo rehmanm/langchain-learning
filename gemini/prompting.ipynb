{
 "cells": [
  {
   "cell_type": "code",
   "execution_count": 1,
   "id": "df725308",
   "metadata": {},
   "outputs": [],
   "source": [
    "!pip install -qU \\\n",
    "  langchain-core \\\n",
    "  langchain-google-genai \\\n",
    "  langchain-community \\\n",
    "  scikit-image\n"
   ]
  },
  {
   "cell_type": "code",
   "execution_count": 2,
   "id": "a74b4d66",
   "metadata": {},
   "outputs": [
    {
     "name": "stdout",
     "output_type": "stream",
     "text": [
      "Enter API key for Google Gemini: ········\n"
     ]
    }
   ],
   "source": [
    "import getpass\n",
    "import os\n",
    "\n",
    "if not os.environ.get(\"GOOGLE_API_KEY\"):\n",
    "  os.environ[\"GOOGLE_API_KEY\"] = getpass.getpass(\"Enter API key for Google Gemini: \")"
   ]
  },
  {
   "cell_type": "code",
   "execution_count": 3,
   "id": "58c59d57",
   "metadata": {},
   "outputs": [],
   "source": [
    "prompt = \"\"\"\n",
    "\n",
    "Answer the user's query based on the context below.\n",
    "If you don't know the answer based on the context\n",
    "provided, please respond, I don't know.\n",
    "\n",
    "---\n",
    "Context: {context}\n",
    "---\n",
    "\"\"\""
   ]
  },
  {
   "cell_type": "code",
   "execution_count": 4,
   "id": "2cd2a538",
   "metadata": {},
   "outputs": [],
   "source": [
    "from langchain.prompts import ChatPromptTemplate\n",
    "\n",
    "prompt_template = ChatPromptTemplate.from_messages([\n",
    "        (\"system\", prompt),\n",
    "        (\"user\", \"{query}\")\n",
    "])"
   ]
  },
  {
   "cell_type": "code",
   "execution_count": 5,
   "id": "bef411e2",
   "metadata": {},
   "outputs": [
    {
     "data": {
      "text/plain": [
       "['context', 'query']"
      ]
     },
     "execution_count": 5,
     "metadata": {},
     "output_type": "execute_result"
    }
   ],
   "source": [
    "prompt_template.input_variables"
   ]
  },
  {
   "cell_type": "code",
   "execution_count": 6,
   "id": "1bb13bb9",
   "metadata": {},
   "outputs": [
    {
     "data": {
      "text/plain": [
       "[SystemMessagePromptTemplate(prompt=PromptTemplate(input_variables=['context'], input_types={}, partial_variables={}, template=\"\\n\\nAnswer the user's query based on the context below.\\nIf you don't know the answer based on the context\\nprovided, please respond, I don't know.\\n\\n---\\nContext: {context}\\n---\\n\"), additional_kwargs={}),\n",
       " HumanMessagePromptTemplate(prompt=PromptTemplate(input_variables=['query'], input_types={}, partial_variables={}, template='{query}'), additional_kwargs={})]"
      ]
     },
     "execution_count": 6,
     "metadata": {},
     "output_type": "execute_result"
    }
   ],
   "source": [
    "prompt_template.messages"
   ]
  },
  {
   "cell_type": "code",
   "execution_count": 7,
   "id": "3201996d",
   "metadata": {},
   "outputs": [],
   "source": [
    "from langchain.prompts import (\n",
    "    SystemMessagePromptTemplate,\n",
    "    HumanMessagePromptTemplate,\n",
    "    AIMessagePromptTemplate\n",
    ")\n",
    "\n",
    "prompt_template_2 = ChatPromptTemplate.from_messages([\n",
    "        SystemMessagePromptTemplate.from_template(prompt),\n",
    "        HumanMessagePromptTemplate.from_template(\"{query}\")\n",
    "])"
   ]
  },
  {
   "cell_type": "code",
   "execution_count": 8,
   "id": "5f4e1f3e",
   "metadata": {},
   "outputs": [
    {
     "data": {
      "text/plain": [
       "[SystemMessagePromptTemplate(prompt=PromptTemplate(input_variables=['context'], input_types={}, partial_variables={}, template=\"\\n\\nAnswer the user's query based on the context below.\\nIf you don't know the answer based on the context\\nprovided, please respond, I don't know.\\n\\n---\\nContext: {context}\\n---\\n\"), additional_kwargs={}),\n",
       " HumanMessagePromptTemplate(prompt=PromptTemplate(input_variables=['query'], input_types={}, partial_variables={}, template='{query}'), additional_kwargs={})]"
      ]
     },
     "execution_count": 8,
     "metadata": {},
     "output_type": "execute_result"
    }
   ],
   "source": [
    "prompt_template_2.messages"
   ]
  },
  {
   "cell_type": "code",
   "execution_count": 9,
   "id": "8baeb966",
   "metadata": {},
   "outputs": [
    {
     "data": {
      "text/plain": [
       "['context', 'query']"
      ]
     },
     "execution_count": 9,
     "metadata": {},
     "output_type": "execute_result"
    }
   ],
   "source": [
    "prompt_template_2.input_variables"
   ]
  },
  {
   "cell_type": "code",
   "execution_count": 10,
   "id": "e2271103",
   "metadata": {},
   "outputs": [],
   "source": [
    "from langchain.chat_models import init_chat_model\n",
    "\n",
    "\n",
    "llm = init_chat_model(\"gemini-2.0-flash\", model_provider=\"google_genai\", temperature=0.0) "
   ]
  },
  {
   "cell_type": "code",
   "execution_count": 11,
   "id": "59641dda",
   "metadata": {},
   "outputs": [],
   "source": [
    "pipeline = (\n",
    "    {\n",
    "        \"query\": lambda x: x[\"query\"],\n",
    "        \"context\": lambda x: x[\"context\"]\n",
    "    }\n",
    "    | prompt_template_2 \n",
    "    | llm)"
   ]
  },
  {
   "cell_type": "code",
   "execution_count": 12,
   "id": "f972b64b",
   "metadata": {},
   "outputs": [],
   "source": [
    "context = \"\"\"\n",
    "Aurelio AI is an AI company developing tooling for AI\n",
    "engineers. There focus is on the language AI with the team having strong\n",
    "expertise in building AI agents and a strong background in information\n",
    "retreival.\n",
    "\n",
    "The company is behind several open source frameworks, most notably\n",
    "Semantic Router and Semantic Chunkers. They also have an AI \n",
    "Platform providing engineers with tooling to help them build with \n",
    "AI. Finally, the team also provides development services to other\n",
    "organizations to help them bring their AI tech to market.\n",
    "\n",
    "Aurelio AI become langchain expert in September 2024 after a long \n",
    "track record of delivering AI solutions built with Langchain ecosystem.\n",
    "\n",
    "\"\"\"\n",
    "\n",
    "query =\"What does Aurelio AI do?\""
   ]
  },
  {
   "cell_type": "code",
   "execution_count": 13,
   "id": "c98c4c3f",
   "metadata": {},
   "outputs": [
    {
     "data": {
      "text/plain": [
       "AIMessage(content='Aurelio AI is an AI company that develops tooling for AI engineers, with a focus on language AI. They build AI agents and have a strong background in information retrieval. They are the creators of Semantic Router and Semantic Chunkers, and offer an AI Platform with tools for building with AI. Additionally, they provide development services to help other organizations bring their AI tech to market.', additional_kwargs={}, response_metadata={'prompt_feedback': {'block_reason': 0, 'safety_ratings': []}, 'finish_reason': 'STOP', 'model_name': 'gemini-2.0-flash', 'safety_ratings': []}, id='run--345b4504-8067-4b2a-babb-8c4ccc657057-0', usage_metadata={'input_tokens': 194, 'output_tokens': 76, 'total_tokens': 270, 'input_token_details': {'cache_read': 0}})"
      ]
     },
     "execution_count": 13,
     "metadata": {},
     "output_type": "execute_result"
    }
   ],
   "source": [
    "pipeline.invoke({\"query\": query, \"context\": context})"
   ]
  },
  {
   "cell_type": "code",
   "execution_count": 14,
   "id": "bd9e7509",
   "metadata": {},
   "outputs": [
    {
     "data": {
      "text/plain": [
       "AIMessage(content=\"I don't know. The context provided describes Aurelio AI, not Microsoft.\", additional_kwargs={}, response_metadata={'prompt_feedback': {'block_reason': 0, 'safety_ratings': []}, 'finish_reason': 'STOP', 'model_name': 'gemini-2.0-flash', 'safety_ratings': []}, id='run--6bdbbf55-67a1-4b87-8dda-9aa8bd3823f3-0', usage_metadata={'input_tokens': 191, 'output_tokens': 18, 'total_tokens': 209, 'input_token_details': {'cache_read': 0}})"
      ]
     },
     "execution_count": 14,
     "metadata": {},
     "output_type": "execute_result"
    }
   ],
   "source": [
    "pipeline.invoke({\"query\": \"What does Microsoft do\", \"context\": context})"
   ]
  },
  {
   "cell_type": "markdown",
   "id": "3f3d81a1",
   "metadata": {},
   "source": [
    "## Few Short Prompting"
   ]
  },
  {
   "cell_type": "code",
   "execution_count": 15,
   "id": "a6fbcd3b",
   "metadata": {},
   "outputs": [],
   "source": [
    "example_prompt = ChatPromptTemplate.from_messages([ \n",
    "        HumanMessagePromptTemplate.from_template(\"{input}\"),\n",
    "        AIMessagePromptTemplate.from_template(\"{output}\")\n",
    "])"
   ]
  },
  {
   "cell_type": "code",
   "execution_count": 16,
   "id": "4396ea9c",
   "metadata": {},
   "outputs": [],
   "source": [
    "examples = [\n",
    "    {\"input\": \"Here is the query #1\", \"output\": \"Here is the answer #1\"},\n",
    "    {\"input\": \"Here is the query #2\", \"output\": \"Here is the answer #2\"},\n",
    "    {\"input\": \"Here is the query #3\", \"output\": \"Here is the answer #3\"}    \n",
    "]"
   ]
  },
  {
   "cell_type": "code",
   "execution_count": 17,
   "id": "707c6599",
   "metadata": {},
   "outputs": [
    {
     "name": "stdout",
     "output_type": "stream",
     "text": [
      "Human: Here is the query #1\n",
      "AI: Here is the answer #1\n",
      "Human: Here is the query #2\n",
      "AI: Here is the answer #2\n",
      "Human: Here is the query #3\n",
      "AI: Here is the answer #3\n"
     ]
    }
   ],
   "source": [
    "from langchain.prompts import FewShotChatMessagePromptTemplate\n",
    "\n",
    "few_shot_prompt = FewShotChatMessagePromptTemplate(\n",
    "    example_prompt = example_prompt,\n",
    "    examples = examples\n",
    ")\n",
    "\n",
    "print(few_shot_prompt.format())"
   ]
  },
  {
   "cell_type": "code",
   "execution_count": 18,
   "id": "7aaf34b0",
   "metadata": {},
   "outputs": [
    {
     "name": "stdout",
     "output_type": "stream",
     "text": [
      "# Aurelio AI Overview\n",
      "\n",
      "Aurelio AI is an AI company specializing in tooling for AI engineers, particularly in the realm of language AI.\n",
      "\n",
      "## Summary\n",
      "\n",
      "*   Focus on language AI with expertise in AI agents and information retrieval.\n",
      "*   Develops open-source frameworks like Semantic Router and Semantic Chunkers.\n",
      "*   Offers an AI Platform with tools for AI development.\n",
      "*   Provides AI development services to other organizations.\n",
      "*   Became a Langchain expert in September 2024.\n",
      "\n",
      "## Core Activities\n",
      "\n",
      "*   **Open Source Frameworks:** Creating and maintaining tools like Semantic Router and Semantic Chunkers.\n",
      "*   **AI Platform:** Providing a platform with various tools to help engineers build AI solutions.\n",
      "*   **Development Services:** Assisting other organizations in bringing their AI technology to market.\n",
      "\n",
      "## Conclusion\n",
      "\n",
      "Aurelio AI empowers AI engineers through open-source tools, a comprehensive AI platform, and expert development services, with a strong focus on language AI and a proven track record in the Langchain ecosystem.\n"
     ]
    }
   ],
   "source": [
    "new_system_prompt = \"\"\"\n",
    "\n",
    "Answer the user's query based on the context below.\n",
    "If you don't know the answer based on the context\n",
    "provided, please respond, I don't know.\n",
    "\n",
    "Always answser in markdown format. When doing so please\n",
    "provide headers, short summaries, follow with bullet \n",
    "points, then conclude.\n",
    "\n",
    "---\n",
    "Context: {context}\n",
    "---\n",
    "\"\"\"\n",
    "\n",
    "prompt_template_markdown = ChatPromptTemplate.from_messages([\n",
    "        SystemMessagePromptTemplate.from_template(new_system_prompt),\n",
    "        HumanMessagePromptTemplate.from_template(\"{query}\")\n",
    "])\n",
    " \n",
    "\n",
    "pipeline_markdown = (\n",
    "    {\n",
    "        \"query\": lambda x: x[\"query\"],\n",
    "        \"context\": lambda x: x[\"context\"]\n",
    "    }\n",
    "    | prompt_template_markdown \n",
    "    | llm)\n",
    "\n",
    "out = pipeline_markdown.invoke({\"query\": query, \"context\": context}).content\n",
    "\n",
    "print(out)"
   ]
  },
  {
   "cell_type": "code",
   "execution_count": 19,
   "id": "4e9480dc",
   "metadata": {},
   "outputs": [
    {
     "data": {
      "text/markdown": [
       "# Aurelio AI Overview\n",
       "\n",
       "Aurelio AI is an AI company specializing in tooling for AI engineers, particularly in the realm of language AI.\n",
       "\n",
       "## Summary\n",
       "\n",
       "*   Focus on language AI with expertise in AI agents and information retrieval.\n",
       "*   Develops open-source frameworks like Semantic Router and Semantic Chunkers.\n",
       "*   Offers an AI Platform with tools for AI development.\n",
       "*   Provides AI development services to other organizations.\n",
       "*   Became a Langchain expert in September 2024.\n",
       "\n",
       "## Core Activities\n",
       "\n",
       "*   **Open Source Frameworks:** Creating and maintaining tools like Semantic Router and Semantic Chunkers.\n",
       "*   **AI Platform:** Providing a platform with various tools to help engineers build AI solutions.\n",
       "*   **Development Services:** Assisting other organizations in bringing their AI technology to market.\n",
       "\n",
       "## Conclusion\n",
       "\n",
       "Aurelio AI empowers AI engineers through open-source tools, a comprehensive AI platform, and expert development services, with a strong focus on language AI and a proven track record in the Langchain ecosystem."
      ],
      "text/plain": [
       "<IPython.core.display.Markdown object>"
      ]
     },
     "metadata": {},
     "output_type": "display_data"
    }
   ],
   "source": [
    "from IPython.display import display, Markdown\n",
    "\n",
    "display(Markdown(out))"
   ]
  },
  {
   "cell_type": "code",
   "execution_count": 20,
   "id": "b8091ac0",
   "metadata": {},
   "outputs": [],
   "source": [
    "examples = [\n",
    "    {\n",
    "        \"input\": \"Can you explain gravity?\",\n",
    "        \"output\": (\n",
    "            \"## Gravity\\n\\n\"\n",
    "            \"Gravity is one of the fundamental forces in the universe.\\n\\n\"\n",
    "            \"### Discovery\\n\\n\"\n",
    "            \"* Gravity was first discovered by Sir Isaac Newton in the late 17th century.\\n\"\n",
    "            \"* It was said that Newton theorized about gravity after seeing an apple fall from a tree.\\n\\n\"\n",
    "            \"### In General Relativity\\n\\n\"\n",
    "            \"* Gravity is described as the curvature of spacetime.\\n\"\n",
    "            \"* The more massive an object is, the more it curves spacetime.\\n\"\n",
    "            \"* This curvature is what causes objects to fall towards each other.\\n\\n\"\n",
    "            \"### Gravitons\\n\\n\"\n",
    "            \"* Gravitons are hypothetical particles that mediate the force of gravity.\\n\"\n",
    "            \"* They have not yet been detected.\\n\\n\"\n",
    "            \"**To conclude**, Gravity is a fascinating topic and has been studied extensively since the time of Newton.\\n\\n\"\n",
    "        )\n",
    "    },\n",
    "    {\n",
    "        \"input\": \"What is the capital of France?\",\n",
    "        \"output\": (\n",
    "            \"## France\\n\\n\"\n",
    "            \"The capital of France is Paris.\\n\\n\"\n",
    "            \"### Origins\\n\\n\"\n",
    "            \"* The name Paris comes from the Latin word \\\"Parisini\\\" which referred to a Celtic people living in the area.\\n\"\n",
    "            \"* The Romans named the city Lutetia, which means \\\"the place where the river turns\\\".\\n\"\n",
    "            \"* The city was renamed Paris in the 3rd century BC by the Celtic-speaking Parisii tribe.\\n\\n\"\n",
    "            \"**To conclude**, Paris is highly regarded as one of the most beautiful cities in the world and is one of the world's greatest cultural and economic centres.\\n\\n\"\n",
    "        )\n",
    "    }\n",
    "]"
   ]
  },
  {
   "cell_type": "code",
   "execution_count": 21,
   "id": "088fe95b",
   "metadata": {},
   "outputs": [
    {
     "data": {
      "text/markdown": [
       "Human: Can you explain gravity?\n",
       "AI: ## Gravity\n",
       "\n",
       "Gravity is one of the fundamental forces in the universe.\n",
       "\n",
       "### Discovery\n",
       "\n",
       "* Gravity was first discovered by Sir Isaac Newton in the late 17th century.\n",
       "* It was said that Newton theorized about gravity after seeing an apple fall from a tree.\n",
       "\n",
       "### In General Relativity\n",
       "\n",
       "* Gravity is described as the curvature of spacetime.\n",
       "* The more massive an object is, the more it curves spacetime.\n",
       "* This curvature is what causes objects to fall towards each other.\n",
       "\n",
       "### Gravitons\n",
       "\n",
       "* Gravitons are hypothetical particles that mediate the force of gravity.\n",
       "* They have not yet been detected.\n",
       "\n",
       "**To conclude**, Gravity is a fascinating topic and has been studied extensively since the time of Newton.\n",
       "\n",
       "\n",
       "Human: What is the capital of France?\n",
       "AI: ## France\n",
       "\n",
       "The capital of France is Paris.\n",
       "\n",
       "### Origins\n",
       "\n",
       "* The name Paris comes from the Latin word \"Parisini\" which referred to a Celtic people living in the area.\n",
       "* The Romans named the city Lutetia, which means \"the place where the river turns\".\n",
       "* The city was renamed Paris in the 3rd century BC by the Celtic-speaking Parisii tribe.\n",
       "\n",
       "**To conclude**, Paris is highly regarded as one of the most beautiful cities in the world and is one of the world's greatest cultural and economic centres.\n",
       "\n"
      ],
      "text/plain": [
       "<IPython.core.display.Markdown object>"
      ]
     },
     "metadata": {},
     "output_type": "display_data"
    }
   ],
   "source": [
    "few_shot_prompt_new = FewShotChatMessagePromptTemplate(\n",
    "    example_prompt = example_prompt,\n",
    "    examples = examples\n",
    ")\n",
    "\n",
    "out = few_shot_prompt_new.format()\n",
    "\n",
    "display(Markdown(out))"
   ]
  },
  {
   "cell_type": "code",
   "execution_count": 28,
   "id": "a3c1ade2",
   "metadata": {},
   "outputs": [],
   "source": [
    "few_shot_prompt_template = ChatPromptTemplate.from_messages([\n",
    "        SystemMessagePromptTemplate.from_template(new_system_prompt),\n",
    "        FewShotChatMessagePromptTemplate(\n",
    "            example_prompt = example_prompt,\n",
    "            examples = examples\n",
    "        ),\n",
    "        HumanMessagePromptTemplate.from_template(\"{query}\")\n",
    "])"
   ]
  },
  {
   "cell_type": "code",
   "execution_count": 29,
   "id": "68e0f621",
   "metadata": {},
   "outputs": [
    {
     "data": {
      "text/plain": [
       "ChatPromptTemplate(input_variables=['context', 'query'], input_types={}, partial_variables={}, messages=[SystemMessagePromptTemplate(prompt=PromptTemplate(input_variables=['context'], input_types={}, partial_variables={}, template=\"\\n\\nAnswer the user's query based on the context below.\\nIf you don't know the answer based on the context\\nprovided, please respond, I don't know.\\n\\nAlways answser in markdown format. When doing so please\\nprovide headers, short summaries, follow with bullet \\npoints, then conclude.\\n\\n---\\nContext: {context}\\n---\\n\"), additional_kwargs={}), FewShotChatMessagePromptTemplate(examples=[{'input': 'Can you explain gravity?', 'output': '## Gravity\\n\\nGravity is one of the fundamental forces in the universe.\\n\\n### Discovery\\n\\n* Gravity was first discovered by Sir Isaac Newton in the late 17th century.\\n* It was said that Newton theorized about gravity after seeing an apple fall from a tree.\\n\\n### In General Relativity\\n\\n* Gravity is described as the curvature of spacetime.\\n* The more massive an object is, the more it curves spacetime.\\n* This curvature is what causes objects to fall towards each other.\\n\\n### Gravitons\\n\\n* Gravitons are hypothetical particles that mediate the force of gravity.\\n* They have not yet been detected.\\n\\n**To conclude**, Gravity is a fascinating topic and has been studied extensively since the time of Newton.\\n\\n'}, {'input': 'What is the capital of France?', 'output': '## France\\n\\nThe capital of France is Paris.\\n\\n### Origins\\n\\n* The name Paris comes from the Latin word \"Parisini\" which referred to a Celtic people living in the area.\\n* The Romans named the city Lutetia, which means \"the place where the river turns\".\\n* The city was renamed Paris in the 3rd century BC by the Celtic-speaking Parisii tribe.\\n\\n**To conclude**, Paris is highly regarded as one of the most beautiful cities in the world and is one of the world\\'s greatest cultural and economic centres.\\n\\n'}], input_variables=[], input_types={}, partial_variables={}, example_prompt=ChatPromptTemplate(input_variables=['input', 'output'], input_types={}, partial_variables={}, messages=[HumanMessagePromptTemplate(prompt=PromptTemplate(input_variables=['input'], input_types={}, partial_variables={}, template='{input}'), additional_kwargs={}), AIMessagePromptTemplate(prompt=PromptTemplate(input_variables=['output'], input_types={}, partial_variables={}, template='{output}'), additional_kwargs={})])), HumanMessagePromptTemplate(prompt=PromptTemplate(input_variables=['query'], input_types={}, partial_variables={}, template='{query}'), additional_kwargs={})])"
      ]
     },
     "execution_count": 29,
     "metadata": {},
     "output_type": "execute_result"
    }
   ],
   "source": [
    "few_shot_prompt_template"
   ]
  },
  {
   "cell_type": "code",
   "execution_count": 30,
   "id": "106c167b",
   "metadata": {},
   "outputs": [
    {
     "data": {
      "text/markdown": [
       "## Aurelio AI\n",
       "\n",
       "Aurelio AI is an AI company focused on providing tools and services for AI engineers, particularly in the realm of language AI.\n",
       "\n",
       "### Summary\n",
       "\n",
       "*   **Focus:** Language AI, AI Agents, and Information Retrieval.\n",
       "*   **Open Source Frameworks:** Developers of Semantic Router and Semantic Chunkers.\n",
       "*   **AI Platform:** Offers tooling for AI engineers to build with AI.\n",
       "*   **Development Services:** Provides AI development services to other organizations.\n",
       "*   **Langchain Expertise:** Became Langchain experts in September 2024.\n",
       "\n",
       "**In conclusion,** Aurelio AI empowers AI engineers through open-source tools, a dedicated AI platform, and expert development services, with a strong focus on language AI and the Langchain ecosystem."
      ],
      "text/plain": [
       "<IPython.core.display.Markdown object>"
      ]
     },
     "metadata": {},
     "output_type": "display_data"
    }
   ],
   "source": [
    "pipeline_few_shot = (\n",
    "    {\n",
    "        \"query\": lambda x: x[\"query\"],\n",
    "        \"context\": lambda x: x[\"context\"]\n",
    "    }\n",
    "    | few_shot_prompt_template \n",
    "    | llm)\n",
    "\n",
    "out = pipeline_few_shot.invoke({\"query\": query, \"context\": context}).content\n",
    "\n",
    "display(Markdown(out))"
   ]
  },
  {
   "cell_type": "code",
   "execution_count": null,
   "id": "61bc2e54",
   "metadata": {},
   "outputs": [],
   "source": []
  }
 ],
 "metadata": {
  "kernelspec": {
   "display_name": "Python 3 (ipykernel)",
   "language": "python",
   "name": "python3"
  },
  "language_info": {
   "codemirror_mode": {
    "name": "ipython",
    "version": 3
   },
   "file_extension": ".py",
   "mimetype": "text/x-python",
   "name": "python",
   "nbconvert_exporter": "python",
   "pygments_lexer": "ipython3",
   "version": "3.10.12"
  }
 },
 "nbformat": 4,
 "nbformat_minor": 5
}
